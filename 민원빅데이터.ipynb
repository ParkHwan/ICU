{
 "cells": [
  {
   "cell_type": "markdown",
   "metadata": {},
   "source": [
    "### 민원 빅데이터 OPEN API 활용"
   ]
  },
  {
   "cell_type": "code",
   "execution_count": 10,
   "metadata": {},
   "outputs": [
    {
     "name": "stdout",
     "output_type": "stream",
     "text": [
      "474c64684c6b616e3738686144597a\n"
     ]
    }
   ],
   "source": [
    "from bs4 import BeautifulSoup\n",
    "import urllib.request as req\n",
    "import json\n",
    "\n",
    "secret_file = \"data/secret_key.json\"\n",
    "with open(secret_file) as f:\n",
    "    secret_key = json.loads(f.read())\n",
    "    def get_secret_key(key, secret = secret_key):\n",
    "        try:\n",
    "            return secret[key]\n",
    "        except KeyError:\n",
    "            error_msg = f\"Set the {key} environment variable\"\n",
    "            print(error_msg)\n",
    "\n",
    "complaint_sevice_key = get_secret_key(\"complaint_key\")\n",
    "print(complaint_sevice_key)   "
   ]
  },
  {
   "cell_type": "code",
   "execution_count": null,
   "metadata": {},
   "outputs": [],
   "source": [
    "dataType = \"json\"\n",
    "target = \"pttn, dfpt, saeol, prpl, qna origin\"\n",
    "dateFrom = \"20200101\"\n",
    "dateTo = \"20220430\"\n",
    "searchword = \"안전\"\n",
    "\n",
    "url = \"\""
   ]
  },
  {
   "cell_type": "code",
   "execution_count": null,
   "metadata": {},
   "outputs": [],
   "source": []
  }
 ],
 "metadata": {
  "interpreter": {
   "hash": "e0bacc6591487e45c514b167bdb14b721e2492b37914a94f323b132fa24ca709"
  },
  "kernelspec": {
   "display_name": "Python 3.9.12 ('pydatavenv')",
   "language": "python",
   "name": "python3"
  },
  "language_info": {
   "codemirror_mode": {
    "name": "ipython",
    "version": 3
   },
   "file_extension": ".py",
   "mimetype": "text/x-python",
   "name": "python",
   "nbconvert_exporter": "python",
   "pygments_lexer": "ipython3",
   "version": "3.9.12"
  },
  "orig_nbformat": 4
 },
 "nbformat": 4,
 "nbformat_minor": 2
}
