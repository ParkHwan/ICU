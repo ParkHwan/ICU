{
 "cells": [
  {
   "cell_type": "code",
   "execution_count": 1,
   "metadata": {},
   "outputs": [
    {
     "data": {
      "text/plain": [
       "'c227ddccaa0eb6add96fd0ebe203ae6d'"
      ]
     },
     "execution_count": 1,
     "metadata": {},
     "output_type": "execute_result"
    }
   ],
   "source": [
    "import pandas as pd\n",
    "import numpy as nm\n",
    "import re\n",
    "from tqdm.notebook import tqdm\n",
    "import json\n",
    "import time\n",
    "secret_file = \"data/secret_key.json\"\n",
    "with open(secret_file) as f:\n",
    "    secret_key = json.loads(f.read())\n",
    "    def get_secret_key(key, secret = secret_key):\n",
    "        try:\n",
    "            return secret[key]\n",
    "        except KeyError:\n",
    "            error_msg = f\"Set the {key} environment variable\"\n",
    "            print(error_msg)\n",
    "kakaoAK_REST_Key = get_secret_key(\"kakaoAK_REST_Key\")\n",
    "kakaoAK_REST_Key"
   ]
  },
  {
   "cell_type": "code",
   "execution_count": 45,
   "metadata": {},
   "outputs": [
    {
     "data": {
      "text/html": [
       "<div>\n",
       "<style scoped>\n",
       "    .dataframe tbody tr th:only-of-type {\n",
       "        vertical-align: middle;\n",
       "    }\n",
       "\n",
       "    .dataframe tbody tr th {\n",
       "        vertical-align: top;\n",
       "    }\n",
       "\n",
       "    .dataframe thead th {\n",
       "        text-align: right;\n",
       "    }\n",
       "</style>\n",
       "<table border=\"1\" class=\"dataframe\">\n",
       "  <thead>\n",
       "    <tr style=\"text-align: right;\">\n",
       "      <th></th>\n",
       "      <th>구명</th>\n",
       "      <th>주소</th>\n",
       "      <th>CCTV용도</th>\n",
       "      <th>lat</th>\n",
       "      <th>lng</th>\n",
       "      <th>CCTV수량</th>\n",
       "      <th>수정일시</th>\n",
       "    </tr>\n",
       "  </thead>\n",
       "  <tbody>\n",
       "    <tr>\n",
       "      <th>0</th>\n",
       "      <td>종로구</td>\n",
       "      <td>방범373 충신길 53 메인1</td>\n",
       "      <td>도심공원</td>\n",
       "      <td>37.575179</td>\n",
       "      <td>127.007360</td>\n",
       "      <td>1</td>\n",
       "      <td>2021-11-16</td>\n",
       "    </tr>\n",
       "    <tr>\n",
       "      <th>1</th>\n",
       "      <td>종로구</td>\n",
       "      <td>방범459 백석동길 187 검지2</td>\n",
       "      <td>도심공원</td>\n",
       "      <td>37.596453</td>\n",
       "      <td>126.967939</td>\n",
       "      <td>1</td>\n",
       "      <td>2021-11-16</td>\n",
       "    </tr>\n",
       "    <tr>\n",
       "      <th>2</th>\n",
       "      <td>종로구</td>\n",
       "      <td>방범128 돈화문로11다길 44 검지1</td>\n",
       "      <td>도심공원</td>\n",
       "      <td>37.573735</td>\n",
       "      <td>126.989771</td>\n",
       "      <td>1</td>\n",
       "      <td>2021-11-16</td>\n",
       "    </tr>\n",
       "    <tr>\n",
       "      <th>3</th>\n",
       "      <td>종로구</td>\n",
       "      <td>방범398 종로51가길 31 메인1</td>\n",
       "      <td>도심공원</td>\n",
       "      <td>37.573467</td>\n",
       "      <td>127.012433</td>\n",
       "      <td>1</td>\n",
       "      <td>2021-11-16</td>\n",
       "    </tr>\n",
       "    <tr>\n",
       "      <th>4</th>\n",
       "      <td>종로구</td>\n",
       "      <td>방범458 삼청로5길 30 검지3</td>\n",
       "      <td>도심공원</td>\n",
       "      <td>37.582970</td>\n",
       "      <td>126.980254</td>\n",
       "      <td>1</td>\n",
       "      <td>2021-11-16</td>\n",
       "    </tr>\n",
       "  </tbody>\n",
       "</table>\n",
       "</div>"
      ],
      "text/plain": [
       "    구명                     주소 CCTV용도        lat         lng  CCTV수량  \\\n",
       "0  종로구       방범373 충신길 53 메인1   도심공원  37.575179  127.007360       1   \n",
       "1  종로구     방범459 백석동길 187 검지2   도심공원  37.596453  126.967939       1   \n",
       "2  종로구  방범128 돈화문로11다길 44 검지1   도심공원  37.573735  126.989771       1   \n",
       "3  종로구    방범398 종로51가길 31 메인1   도심공원  37.573467  127.012433       1   \n",
       "4  종로구     방범458 삼청로5길 30 검지3   도심공원  37.582970  126.980254       1   \n",
       "\n",
       "         수정일시  \n",
       "0  2021-11-16  \n",
       "1  2021-11-16  \n",
       "2  2021-11-16  \n",
       "3  2021-11-16  \n",
       "4  2021-11-16  "
      ]
     },
     "execution_count": 45,
     "metadata": {},
     "output_type": "execute_result"
    }
   ],
   "source": [
    "cctv_seoul = pd.read_csv(\"data/서울시 (안심이) CCTV 설치 현황_220615.csv\")\n",
    "column = [\"구명\", \"주소\", \"CCTV용도\", \"lat\", \"lng\", \"CCTV수량\", \"수정일시\"]\n",
    "cctv_seoul.columns = column\n",
    "cctv_seoul.head()"
   ]
  },
  {
   "cell_type": "code",
   "execution_count": 8,
   "metadata": {},
   "outputs": [
    {
     "data": {
      "application/vnd.jupyter.widget-view+json": {
       "model_id": "f856a930dd144c5b9aab96ff2033e024",
       "version_major": 2,
       "version_minor": 0
      },
      "text/plain": [
       "0it [00:00, ?it/s]"
      ]
     },
     "metadata": {},
     "output_type": "display_data"
    }
   ],
   "source": [
    "import requests, json\n",
    "from pprint import pprint\n",
    "def get_address(lat, lng):\n",
    "    url = \"https://dapi.kakao.com/v2/local/geo/coord2regioncode.json?x=\"+lng+\"&y=\"+lat\n",
    "    headers = {\"Authorization\": \"KakaoAK \" + kakaoAK_REST_Key}\n",
    "    api_json = json.loads(str(requests.get(url, headers=headers).text))\n",
    "    match_data = api_json[\"documents\"][0]\n",
    "    addr_dong = {\"주소\": match_data[\"address_name\"], \"법정동명\": match_data[\"region_3depth_name\"]}\n",
    "    \n",
    "    return addr_dong\n",
    "cctv_addr = []\n",
    "for n, m in tqdm(cctv_seoul_test[[\"lat\", \"lng\"]].iterrows()):\n",
    "    match_data = get_address(str(m.lat), str(m.lng))\n",
    "    cctv_addr.append(match_data)\n"
   ]
  },
  {
   "cell_type": "code",
   "execution_count": 38,
   "metadata": {},
   "outputs": [
    {
     "data": {
      "text/html": [
       "<div>\n",
       "<style scoped>\n",
       "    .dataframe tbody tr th:only-of-type {\n",
       "        vertical-align: middle;\n",
       "    }\n",
       "\n",
       "    .dataframe tbody tr th {\n",
       "        vertical-align: top;\n",
       "    }\n",
       "\n",
       "    .dataframe thead th {\n",
       "        text-align: right;\n",
       "    }\n",
       "</style>\n",
       "<table border=\"1\" class=\"dataframe\">\n",
       "  <thead>\n",
       "    <tr style=\"text-align: right;\">\n",
       "      <th></th>\n",
       "      <th>구명</th>\n",
       "      <th>법정동명</th>\n",
       "    </tr>\n",
       "  </thead>\n",
       "  <tbody>\n",
       "    <tr>\n",
       "      <th>0</th>\n",
       "      <td>종로구</td>\n",
       "      <td>충신동</td>\n",
       "    </tr>\n",
       "    <tr>\n",
       "      <th>1</th>\n",
       "      <td>종로구</td>\n",
       "      <td>부암동</td>\n",
       "    </tr>\n",
       "    <tr>\n",
       "      <th>2</th>\n",
       "      <td>종로구</td>\n",
       "      <td>익선동</td>\n",
       "    </tr>\n",
       "    <tr>\n",
       "      <th>3</th>\n",
       "      <td>종로구</td>\n",
       "      <td>창신동</td>\n",
       "    </tr>\n",
       "    <tr>\n",
       "      <th>4</th>\n",
       "      <td>종로구</td>\n",
       "      <td>팔판동</td>\n",
       "    </tr>\n",
       "    <tr>\n",
       "      <th>...</th>\n",
       "      <td>...</td>\n",
       "      <td>...</td>\n",
       "    </tr>\n",
       "    <tr>\n",
       "      <th>59419</th>\n",
       "      <td>강남구</td>\n",
       "      <td>역삼동</td>\n",
       "    </tr>\n",
       "    <tr>\n",
       "      <th>59420</th>\n",
       "      <td>강남구</td>\n",
       "      <td>논현동</td>\n",
       "    </tr>\n",
       "    <tr>\n",
       "      <th>59421</th>\n",
       "      <td>강남구</td>\n",
       "      <td>논현동</td>\n",
       "    </tr>\n",
       "    <tr>\n",
       "      <th>59422</th>\n",
       "      <td>강남구</td>\n",
       "      <td>역삼동</td>\n",
       "    </tr>\n",
       "    <tr>\n",
       "      <th>59423</th>\n",
       "      <td>강남구</td>\n",
       "      <td>논현동</td>\n",
       "    </tr>\n",
       "  </tbody>\n",
       "</table>\n",
       "<p>59424 rows × 2 columns</p>\n",
       "</div>"
      ],
      "text/plain": [
       "        구명 법정동명\n",
       "0      종로구  충신동\n",
       "1      종로구  부암동\n",
       "2      종로구  익선동\n",
       "3      종로구  창신동\n",
       "4      종로구  팔판동\n",
       "...    ...  ...\n",
       "59419  강남구  역삼동\n",
       "59420  강남구  논현동\n",
       "59421  강남구  논현동\n",
       "59422  강남구  역삼동\n",
       "59423  강남구  논현동\n",
       "\n",
       "[59424 rows x 2 columns]"
      ]
     },
     "execution_count": 38,
     "metadata": {},
     "output_type": "execute_result"
    }
   ],
   "source": [
    "cctv_seoul_test = cctv_seoul\n",
    "cctv_addr_df = pd.DataFrame(cctv_addr)\n",
    "cctv_addr_nm = cctv_addr_df[\"주소\"].str.split(\" \", expand=True)\n",
    "cctv_addr_nm.rename(columns={1: \"구명\"}, inplace=True)\n",
    "cctv_addr_gudong = pd.concat([cctv_addr_nm[\"구명\"], cctv_addr_df], axis = 1)\n",
    "cctv_addr_gudong.drop(\"주소\", axis = 1, inplace=True)\n",
    "cctv_addr_gudong"
   ]
  },
  {
   "cell_type": "code",
   "execution_count": 43,
   "metadata": {},
   "outputs": [
    {
     "data": {
      "text/plain": [
       "1     54544\n",
       "3      1631\n",
       "2      1385\n",
       "4      1094\n",
       "5       601\n",
       "6       155\n",
       "7         4\n",
       "8         3\n",
       "9         2\n",
       "19        1\n",
       "28        1\n",
       "14        1\n",
       "10        1\n",
       "11        1\n",
       "Name: CCTV수량, dtype: int64"
      ]
     },
     "execution_count": 43,
     "metadata": {},
     "output_type": "execute_result"
    }
   ],
   "source": [
    "cctv_seoul_test = cctv_seoul_test[[\"CCTV수량\", \"lat\", \"lng\"]]\n",
    "cctv_seoul_latlng = pd.concat([cctv_addr_gudong, cctv_seoul_test], axis = 1)\n",
    "cctv_seoul_latlng.head()\n",
    "cctv_seoul_latlng[\"CCTV수량\"].value_counts()"
   ]
  },
  {
   "cell_type": "code",
   "execution_count": 42,
   "metadata": {},
   "outputs": [],
   "source": [
    "cctv_seoul_latlng.to_csv(\"data/서울시CCTV좌표.csv\")"
   ]
  },
  {
   "cell_type": "code",
   "execution_count": null,
   "metadata": {},
   "outputs": [],
   "source": [
    "police_substation = pd.read_csv(\"data/경찰청_전국 경찰관서 현황_20211231.csv\", encoding=\"cp949\")\n",
    "police_substation_seoul = police_substation.loc[police_substation[\"전체기관명\"].str.contains(\"서울\")]\n",
    "name_list = police_substation_seoul[\"전체기관명\"].str.split(\" \", expand=True)\n",
    "name_list.drop(0, inplace=True, axis =1)\n",
    "name_list.columns = [\"경찰청명\", \"지역구경찰서명\", \"관서명\"]\n",
    "police_substation_seoul = pd.concat([police_substation_seoul, name_list], axis = 1)\n",
    "police_substation_seoul.reset_index(drop=True, inplace=True)\n",
    "police_substation_seoul"
   ]
  },
  {
   "cell_type": "code",
   "execution_count": null,
   "metadata": {},
   "outputs": [],
   "source": [
    "tmp = police_substation_seoul[\"도로명주소\"]\n",
    "police_substation_seoul_df = pd.DataFrame(tmp)\n",
    "police_substation_seoul_df.reset_index(drop=True, inplace = True)\n",
    "police_address_list = police_substation_seoul_df[\"도로명주소\"].str.split(\" \", expand=True)\n",
    "police_address_list"
   ]
  },
  {
   "cell_type": "code",
   "execution_count": null,
   "metadata": {},
   "outputs": [],
   "source": [
    "import requests, json\n",
    "import time\n",
    "police_address_latlng = []\n",
    "def get_location(location):\n",
    "    url = 'https://dapi.kakao.com/v2/local/search/keyword.json?query=' + location\n",
    "    headers = {\"Authorization\": \"KakaoAK c227ddccaa0eb6add96fd0ebe203ae6d\"}\n",
    "    api_json = json.loads(str(requests.get(url,headers=headers).text))\n",
    "    address = api_json['documents']\n",
    "    for addr_nm in address:\n",
    "        if \"서울\" in addr_nm[\"address_name\"]:\n",
    "            crd = {\"lat\": str(addr_nm['y']), \"lng\": str(addr_nm['x']), \"주소\": addr_nm[\"address_name\"]}\n",
    "            return crd  \n",
    "\n",
    "for i, location in police_substation_seoul.iterrows():\n",
    "    if location.관서명:\n",
    "        crd = get_location(location.관서명)\n",
    "        police_address_latlng.append(crd)\n",
    "    elif location.관서명 == None:\n",
    "        if location.지역구경찰서명:\n",
    "            crd = get_location(location.지역구경찰서명)\n",
    "            police_address_latlng.append(crd)\n",
    "        else:\n",
    "            crd = get_location(location.경찰청명)\n",
    "            police_address_latlng.append(crd)\n",
    "\n",
    "pprint(police_address_latlng)"
   ]
  },
  {
   "cell_type": "code",
   "execution_count": null,
   "metadata": {},
   "outputs": [],
   "source": [
    "police_address_latlng_df = pd.DataFrame(police_address_latlng)\n",
    "police_addr_split = police_address_latlng_df[\"주소\"].str.split(\" \", expand=True)\n",
    "police_latlng = police_addr_split.loc[:, 1:2]\n",
    "police_latlng.columns = [\"구명\", \"법정동명\"]\n",
    "police_latlng_df = pd.concat([police_latlng, police_address_latlng_df], axis = 1)\n",
    "police_latlng_df"
   ]
  },
  {
   "cell_type": "code",
   "execution_count": null,
   "metadata": {},
   "outputs": [],
   "source": [
    "police_latlng_df.to_csv(\"data/서울파출소_지구대_좌표.csv\")"
   ]
  },
  {
   "cell_type": "code",
   "execution_count": null,
   "metadata": {},
   "outputs": [],
   "source": [
    "pd.reset_option(\"display.max.row\")"
   ]
  }
 ],
 "metadata": {
  "kernelspec": {
   "display_name": "pydatavenv",
   "language": "python",
   "name": "pydatavenv"
  },
  "language_info": {
   "codemirror_mode": {
    "name": "ipython",
    "version": 3
   },
   "file_extension": ".py",
   "mimetype": "text/x-python",
   "name": "python",
   "nbconvert_exporter": "python",
   "pygments_lexer": "ipython3",
   "version": "3.9.12"
  },
  "orig_nbformat": 4,
  "vscode": {
   "interpreter": {
    "hash": "a077222d77dfe082b8f1dd562ad70e458ac2ab76993a0b248ab0476e32e9e8dd"
   }
  }
 },
 "nbformat": 4,
 "nbformat_minor": 2
}
